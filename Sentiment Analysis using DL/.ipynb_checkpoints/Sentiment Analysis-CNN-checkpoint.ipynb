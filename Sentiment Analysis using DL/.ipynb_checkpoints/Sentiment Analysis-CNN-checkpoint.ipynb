{
 "cells": [
  {
   "cell_type": "markdown",
   "metadata": {},
   "source": [
    "# Sentiment Analysis using CNN"
   ]
  },
  {
   "cell_type": "markdown",
   "metadata": {},
   "source": [
    "## 1. Loading and Preprocessing Data for retrieving labels"
   ]
  },
  {
   "cell_type": "markdown",
   "metadata": {},
   "source": [
    "First part of the assignment is to match the labels of movie reviews using cornell polarity data sets.\n",
    "\n",
    "Here, I first preprocess original_rt_snippets, negative and positive polarity files and match them to extract the labels for original_rt_snippets since the reviews in original_rt_snippets maintains the order as dataSentences from stanford. \n",
    "\n",
    "After extracting the labels, I preprocess the dataSentences and match them with original_rt_snippents from which I get the labels for dataSentences. \n",
    "\n",
    "After a lot of analysis of datasets, I realised that there are 1 or 2 different sentences in both data sets which I had to manually preprocess. There are a lot of duplicates as well in all the data sets. Over all, the data set was not properly put together."
   ]
  },
  {
   "cell_type": "code",
   "execution_count": 1,
   "metadata": {},
   "outputs": [],
   "source": [
    "import pandas as pd\n",
    "import numpy as np\n",
    "import re\n",
    "\n",
    "\n",
    "\n",
    "dataSentences = pd.read_csv('/Users/sudheerkumar/Desktop/DL for NLP/Assignments/HW3/stanfordSentimentTreebank/datasetSentences.txt',sep = \"\\t\",header = 0)\n",
    "datasplit = pd.read_csv('/Users/sudheerkumar/Desktop/DL for NLP/Assignments/HW3/stanfordSentimentTreebank/datasetSplit.txt', delimiter = \",\", header = 0)\n",
    "\n",
    "\n",
    "name_pos = '/Users/sudheerkumar/Desktop/DL for NLP/Assignments/HW3/rt-polaritydata/rt-polaritydata/rt-polarity.pos'\n",
    "name_neg = '/Users/sudheerkumar/Desktop/DL for NLP/Assignments/HW3/rt-polaritydata/rt-polaritydata/rt-polarity.neg'\n",
    "original_snipp_file = '/Users/sudheerkumar/Desktop/DL for NLP/Assignments/HW3/stanfordSentimentTreebank/original_rt_snippets.txt'\n",
    "\n",
    "\n",
    "# Loading all the processed original reviews, polarity_negative reviews and polarity_positive reviews into lists\n",
    "\n",
    "\n",
    "\n",
    "def LoadAndProcess(filename):\n",
    "    sentence_list = []\n",
    "    with open(filename, 'rt', encoding = 'latin-1') as f:\n",
    "        for line in f:\n",
    "            line = line.lower()                     # changes to lower_case\n",
    "            line = re.sub('<.*?>', '',line)         # removes tags   \n",
    "            line = re.sub('<[a-zA-Z]','',line)      # removes text of form <xyz\n",
    "\n",
    "            line = re.sub(r'[^\\w]','',line)         # removes everything except a-zA-Z0-9 and underscore\n",
    "            line = re.sub(r'[0-9]','',line)         # removes numbers\n",
    "            line = re.sub(r'[^\\x00-\\x7f]','',line)  # removes non ascii characters\n",
    "            sentence_list.append(line)\n",
    "    return sentence_list\n",
    "\n",
    "\n",
    "original_snipp = LoadAndProcess(original_snipp_file)\n",
    "file_pos = LoadAndProcess(name_pos)\n",
    "file_neg = LoadAndProcess(name_neg)\n"
   ]
  },
  {
   "cell_type": "code",
   "execution_count": 2,
   "metadata": {},
   "outputs": [],
   "source": [
    "#Matching original_rt reviews with polairty negative and positive reviews to retrieve labels in order of original_rt_reviews\n",
    "\n",
    "original_rt_labels = []\n",
    "\n",
    "for line in original_snipp:\n",
    "    if any(line == text for text in file_pos):\n",
    "        original_rt_labels.append(1)\n",
    "    elif any(line == text for text in file_neg):\n",
    "        original_rt_labels.append(0)\n",
    "    elif line ==\"ihavenoproblemwithdifficultmoviesormoviesthatasktheaudiencetomeetthemhalfwayandconnectthedotsinsteadofhavingthingsallspelledoutbutfirstyouhavetogivetheaudienceareasontowanttoputforthateffort\" :\n",
    "        original_rt_labels.append(0)\n",
    "    else:\n",
    "        print(line )\n",
    "\n",
    "# rt-polarity.neg has additional letters at the end to the above line as mentioned below. The data set is a complete mess.\n",
    "# i have no problem with \" difficult \" movies , or movies that ask the audience to meet them halfway and connect the dots instead of having things all spelled out . but first , you have to give the audience a reason to <b>want</b> to put for that effort , and \" i\n",
    "# Hence adding the label manually."
   ]
  },
  {
   "cell_type": "code",
   "execution_count": 3,
   "metadata": {},
   "outputs": [],
   "source": [
    "#  Function to process the dataSentences that can be used to compare with original_rt_snippets\n",
    "def sentence_manipulate(sentence):\n",
    "    sentence= sentence.lower()\n",
    "    sentence = re.sub(r'[^\\w]','',sentence)\n",
    "    sentence = re.sub(r'[0-9]','',sentence)\n",
    "    sentence = re.sub(r'[^\\x00-\\x7f]','',sentence)\n",
    "    #sentence = re.sub(r'[^a-zA-Z0-9]','',sentence)\n",
    "    sentence = sentence.replace(\"lrb\", \"\")\n",
    "    sentence = sentence.replace(\"rrb\",\"\")\n",
    "    return sentence\n",
    "\n",
    "# Function that returns the first index element that matches with the substring\n",
    "def getFirstMatchedIndexPosition(substring, listOfstrings):\n",
    "    for i in range(len(listOfstrings)):\n",
    "        if substring in listOfstrings[i]:\n",
    "            return i\n",
    "\n",
    "\n",
    "# Returns the labels for each sentence in dataSentences in order\n",
    "final_labels=[]\n",
    "\n",
    "for sentence in list(dataSentences[\"sentence\"].values):\n",
    "    sentence= sentence_manipulate(sentence)\n",
    "    ind = getFirstMatchedIndexPosition(sentence,original_snipp)\n",
    "    final_labels.append(original_rt_labels[ind])\n",
    "    original_snipp[ind]= original_snipp[ind].replace(sentence,\"$$\",1)  \n",
    "    # Removes the sentence that has been matched already to avoid confusion and match with the correct original_snippet when same set of characters appear again.\n"
   ]
  },
  {
   "cell_type": "code",
   "execution_count": 4,
   "metadata": {},
   "outputs": [],
   "source": [
    "# Adding Labels column to dataSentences dataframe\n",
    "\n",
    "dataSentences[\"labels\"]=final_labels"
   ]
  },
  {
   "cell_type": "code",
   "execution_count": 5,
   "metadata": {},
   "outputs": [
    {
     "data": {
      "text/html": [
       "<div>\n",
       "<style scoped>\n",
       "    .dataframe tbody tr th:only-of-type {\n",
       "        vertical-align: middle;\n",
       "    }\n",
       "\n",
       "    .dataframe tbody tr th {\n",
       "        vertical-align: top;\n",
       "    }\n",
       "\n",
       "    .dataframe thead th {\n",
       "        text-align: right;\n",
       "    }\n",
       "</style>\n",
       "<table border=\"1\" class=\"dataframe\">\n",
       "  <thead>\n",
       "    <tr style=\"text-align: right;\">\n",
       "      <th></th>\n",
       "      <th>sentence_index</th>\n",
       "      <th>sentence</th>\n",
       "      <th>labels</th>\n",
       "    </tr>\n",
       "  </thead>\n",
       "  <tbody>\n",
       "    <tr>\n",
       "      <th>11850</th>\n",
       "      <td>11851</td>\n",
       "      <td>A real snooze .</td>\n",
       "      <td>0</td>\n",
       "    </tr>\n",
       "    <tr>\n",
       "      <th>11851</th>\n",
       "      <td>11852</td>\n",
       "      <td>No surprises .</td>\n",
       "      <td>0</td>\n",
       "    </tr>\n",
       "    <tr>\n",
       "      <th>11852</th>\n",
       "      <td>11853</td>\n",
       "      <td>We 've seen the hippie-turned-yuppie plot befo...</td>\n",
       "      <td>1</td>\n",
       "    </tr>\n",
       "    <tr>\n",
       "      <th>11853</th>\n",
       "      <td>11854</td>\n",
       "      <td>Her fans walked out muttering words like `` ho...</td>\n",
       "      <td>0</td>\n",
       "    </tr>\n",
       "    <tr>\n",
       "      <th>11854</th>\n",
       "      <td>11855</td>\n",
       "      <td>In this case zero .</td>\n",
       "      <td>0</td>\n",
       "    </tr>\n",
       "  </tbody>\n",
       "</table>\n",
       "</div>"
      ],
      "text/plain": [
       "       sentence_index                                           sentence  \\\n",
       "11850           11851                                    A real snooze .   \n",
       "11851           11852                                     No surprises .   \n",
       "11852           11853  We 've seen the hippie-turned-yuppie plot befo...   \n",
       "11853           11854  Her fans walked out muttering words like `` ho...   \n",
       "11854           11855                                In this case zero .   \n",
       "\n",
       "       labels  \n",
       "11850       0  \n",
       "11851       0  \n",
       "11852       1  \n",
       "11853       0  \n",
       "11854       0  "
      ]
     },
     "execution_count": 5,
     "metadata": {},
     "output_type": "execute_result"
    }
   ],
   "source": [
    "dataSentences.tail()"
   ]
  },
  {
   "cell_type": "markdown",
   "metadata": {},
   "source": [
    "## Preprocessing the data for creating word embeddings"
   ]
  },
  {
   "cell_type": "code",
   "execution_count": 6,
   "metadata": {},
   "outputs": [],
   "source": [
    "from nltk.corpus import stopwords\n",
    "import string \n",
    "\n",
    "#Function to clean the sentences\n",
    "def clean_sentence(sentence):\n",
    "    \n",
    "    sentence = sentence.translate(string.punctuation)\n",
    "    sentence = sentence.lower()\n",
    "    sentence = re.sub(r\"[^A-Za-z0-9]\", \" \",sentence)\n",
    "    sentence = re.sub(r'[,!...\\/+-=]',\" \", sentence)\n",
    "    sentence = sentence.replace(\"lrb\", \"\")\n",
    "    sentence = sentence.replace(\"rrb\",\"\")\n",
    "    #stopwrds = set(stopwords.words(\"english\"))\n",
    "    #Tried removing stopwords but there was no big improvement in accuracy\n",
    "    words = sentence.split()\n",
    "    words = [word for word in words if len(word) >= 3]\n",
    "    sentence = \" \".join(words)\n",
    "    return sentence\n",
    "    \n",
    "#Cleaning the each data of sentences column and replacing the original form    \n",
    "dataSentences[\"sentence\"] = dataSentences[\"sentence\"] .map(lambda x: clean_sentence(x))\n"
   ]
  },
  {
   "cell_type": "code",
   "execution_count": 7,
   "metadata": {},
   "outputs": [
    {
     "data": {
      "text/html": [
       "<div>\n",
       "<style scoped>\n",
       "    .dataframe tbody tr th:only-of-type {\n",
       "        vertical-align: middle;\n",
       "    }\n",
       "\n",
       "    .dataframe tbody tr th {\n",
       "        vertical-align: top;\n",
       "    }\n",
       "\n",
       "    .dataframe thead th {\n",
       "        text-align: right;\n",
       "    }\n",
       "</style>\n",
       "<table border=\"1\" class=\"dataframe\">\n",
       "  <thead>\n",
       "    <tr style=\"text-align: right;\">\n",
       "      <th></th>\n",
       "      <th>sentence_index</th>\n",
       "      <th>sentence</th>\n",
       "      <th>labels</th>\n",
       "    </tr>\n",
       "  </thead>\n",
       "  <tbody>\n",
       "    <tr>\n",
       "      <th>0</th>\n",
       "      <td>1</td>\n",
       "      <td>the rock destined the century new conan and th...</td>\n",
       "      <td>1</td>\n",
       "    </tr>\n",
       "    <tr>\n",
       "      <th>1</th>\n",
       "      <td>2</td>\n",
       "      <td>the gorgeously elaborate continuation the lord...</td>\n",
       "      <td>1</td>\n",
       "    </tr>\n",
       "    <tr>\n",
       "      <th>2</th>\n",
       "      <td>3</td>\n",
       "      <td>effective but too tepid biopic</td>\n",
       "      <td>1</td>\n",
       "    </tr>\n",
       "    <tr>\n",
       "      <th>3</th>\n",
       "      <td>4</td>\n",
       "      <td>you sometimes like the movies have fun wasabi ...</td>\n",
       "      <td>1</td>\n",
       "    </tr>\n",
       "    <tr>\n",
       "      <th>4</th>\n",
       "      <td>5</td>\n",
       "      <td>emerges something rare issue movie that honest...</td>\n",
       "      <td>1</td>\n",
       "    </tr>\n",
       "  </tbody>\n",
       "</table>\n",
       "</div>"
      ],
      "text/plain": [
       "   sentence_index                                           sentence  labels\n",
       "0               1  the rock destined the century new conan and th...       1\n",
       "1               2  the gorgeously elaborate continuation the lord...       1\n",
       "2               3                     effective but too tepid biopic       1\n",
       "3               4  you sometimes like the movies have fun wasabi ...       1\n",
       "4               5  emerges something rare issue movie that honest...       1"
      ]
     },
     "execution_count": 7,
     "metadata": {},
     "output_type": "execute_result"
    }
   ],
   "source": [
    "dataSentences.head()"
   ]
  },
  {
   "cell_type": "code",
   "execution_count": 8,
   "metadata": {},
   "outputs": [
    {
     "name": "stderr",
     "output_type": "stream",
     "text": [
      "/Users/sudheerkumar/anaconda3/lib/python3.6/site-packages/ipykernel_launcher.py:5: SettingWithCopyWarning: \n",
      "A value is trying to be set on a copy of a slice from a DataFrame\n",
      "\n",
      "See the caveats in the documentation: http://pandas.pydata.org/pandas-docs/stable/indexing.html#indexing-view-versus-copy\n",
      "  \"\"\"\n",
      "/Users/sudheerkumar/anaconda3/lib/python3.6/site-packages/ipykernel_launcher.py:7: SettingWithCopyWarning: \n",
      "A value is trying to be set on a copy of a slice from a DataFrame\n",
      "\n",
      "See the caveats in the documentation: http://pandas.pydata.org/pandas-docs/stable/indexing.html#indexing-view-versus-copy\n",
      "  import sys\n"
     ]
    }
   ],
   "source": [
    "#Replacing empty sentences if any (because, I removed words that have length less than 3)  with \"good\" if label is 1 or \"bad\" if label is 0.\n",
    "\n",
    "for ind in dataSentences.index:\n",
    "    if dataSentences[\"sentence\"][ind] =='' and dataSentences[\"labels\"][ind]==1:\n",
    "        dataSentences[\"sentence\"][ind]= \"good\"\n",
    "    elif dataSentences[\"sentence\"][ind] =='' and dataSentences[\"labels\"][ind]==0:\n",
    "        dataSentences[\"sentence\"][ind] = \"bad\""
   ]
  },
  {
   "cell_type": "code",
   "execution_count": 9,
   "metadata": {},
   "outputs": [],
   "source": [
    "# Splitting the dataset into train, validation and test using datasplit file\n",
    "\n",
    "data_train = dataSentences[datasplit[\"splitset_label\"]==1]\n",
    "\n",
    "X_train = data_train[\"sentence\"]\n",
    "Y_train = data_train[\"labels\"].values\n",
    "\n",
    "data_test = dataSentences[datasplit[\"splitset_label\"]==2]\n",
    "\n",
    "X_test = data_test[\"sentence\"]\n",
    "Y_test = data_test[\"labels\"] .values\n",
    "\n",
    "data_validate = dataSentences[datasplit[\"splitset_label\"]==3]\n",
    "\n",
    "X_validate = data_validate[\"sentence\"]\n",
    "Y_validate = data_validate[\"labels\"].values"
   ]
  },
  {
   "cell_type": "code",
   "execution_count": 10,
   "metadata": {},
   "outputs": [],
   "source": [
    "Y_train_encoded = []\n",
    "for label in Y_train:\n",
    "    if label == 1:\n",
    "        Y_train_encoded.append([0,1])\n",
    "    else:\n",
    "        Y_train_encoded.append([1,0])"
   ]
  },
  {
   "cell_type": "code",
   "execution_count": 11,
   "metadata": {},
   "outputs": [
    {
     "name": "stderr",
     "output_type": "stream",
     "text": [
      "Using TensorFlow backend.\n"
     ]
    },
    {
     "name": "stdout",
     "output_type": "stream",
     "text": [
      "Number of Unique words: 17478\n",
      "Actual Max Length of a sentence 39\n"
     ]
    }
   ],
   "source": [
    "# Creating Word Embeddings \n",
    "\n",
    "from keras.preprocessing.text import Tokenizer\n",
    "from keras.preprocessing.sequence import pad_sequences\n",
    "\n",
    "\n",
    "\n",
    "# Vectorizing the sentences in to integer indices\n",
    "\n",
    "tokenizer_obj = Tokenizer()\n",
    "tokenizer_obj.fit_on_texts(dataSentences[\"sentence\"])\n",
    "sequences = tokenizer_obj.texts_to_sequences(dataSentences[\"sentence\"])\n",
    "\n",
    "# Dictionary of all the unique words and their indices in the order of their occuring frequency\n",
    "word_index = tokenizer_obj.word_index\n",
    "\n",
    "# Max Length of a sentence\n",
    "max_length = max([len(sentence) for sentence in sequences])\n",
    "\n",
    "# No of unique words\n",
    "vocabulary_size = len(word_index) + 1\n",
    "\n",
    "print('Number of Unique words:', len(word_index) )\n",
    "print('Actual Max Length of a sentence', max_length)\n",
    "\n",
    "# Tokenized sentences\n",
    "\n",
    "X_train_tokens= tokenizer_obj.texts_to_sequences(X_train)\n",
    "X_validate_tokens = tokenizer_obj.texts_to_sequences(X_validate)\n",
    "X_test_tokens= tokenizer_obj.texts_to_sequences(X_test)\n",
    "\n",
    "def Padded_sequences(max_sequence_length):\n",
    "    X_train_pad = pad_sequences(X_train_tokens, maxlen = max_sequence_length, padding =\"post\")\n",
    "    X_validate_pad = pad_sequences(X_validate_tokens, maxlen = max_sequence_length, padding =\"post\")\n",
    "    X_test_pad = pad_sequences(X_test_tokens, maxlen = max_sequence_length, padding =\"post\")\n",
    "    \n",
    "    return X_train_pad,X_validate_pad,X_test_pad"
   ]
  },
  {
   "cell_type": "code",
   "execution_count": 12,
   "metadata": {},
   "outputs": [],
   "source": [
    "#Input_dim is the dimension of Word Vectors\n",
    "\n",
    "def embedding_matrix(input_dim):\n",
    "    \n",
    "    # Saving the word embeddings from glove model in a dictionary\n",
    "    embeddings_index = dict()\n",
    "    filename=''\n",
    "    if input_dim ==300:\n",
    "        filename = '/Users/sudheerkumar/Desktop/DL for NLP/Assignments/HW3/glove.6B/glove.6B.300d.txt'\n",
    "    elif input_dim == 100:\n",
    "        filename = '/Users/sudheerkumar/Desktop/DL for NLP/Assignments/HW3/glove.6B/glove.6B.100d.txt'\n",
    "    elif input_dim ==50:\n",
    "        filename = '/Users/sudheerkumar/Desktop/DL for NLP/Assignments/HW3/glove.6B/glove.6B.50d.txt'\n",
    "    \n",
    "    file = open(filename)\n",
    "    for line in file:\n",
    "        values = line.split()\n",
    "        word = values[0]\n",
    "        coefs = np.asarray(values[1:])\n",
    "        embeddings_index[word] = coefs\n",
    "    file.close()\n",
    "    \n",
    "    # Mapping the glove embeddings to each word of vocabulary and creating a matrix of word vectors\n",
    "    embedding_matrix = np.zeros((vocabulary_size,input_dim))\n",
    "    for word, index in word_index.items():\n",
    "        if index > vocabulary_size - 1:\n",
    "            break\n",
    "        else:\n",
    "            embedding_vector = embeddings_index.get(word)\n",
    "            if embedding_vector is not None:\n",
    "                embedding_matrix[index] = embedding_vector\n",
    "    return embedding_matrix\n",
    "    \n"
   ]
  },
  {
   "cell_type": "markdown",
   "metadata": {},
   "source": [
    "## 2. Implementing CNN for the sentiment classification task."
   ]
  },
  {
   "cell_type": "code",
   "execution_count": 47,
   "metadata": {},
   "outputs": [],
   "source": [
    "# Building Model\n",
    "from keras.models import Sequential, Model\n",
    "from keras.layers import Dense,Dropout, Activation, Concatenate, Input,Conv1D, GlobalMaxPooling1D\n",
    "from keras.layers.embeddings import Embedding\n",
    "from keras import optimizers\n",
    "from keras.regularizers import l2\n",
    "\n",
    "def CNN_rand(wordvector_dim,sequence_length):\n",
    "    \n",
    "    model_input = Input(shape=(sequence_length,), name = 'Input')\n",
    "    embedding = Embedding(vocabulary_size,wordvector_dim,input_length=sequence_length,name = 'Embedding')(model_input)\n",
    "    submodels = []\n",
    "    for filter_window in [3,4,5]:\n",
    "        \n",
    "        submodel = Conv1D(filters = 100,kernel_size = filter_window,padding = 'valid',activation = 'relu', strides = 1,name = 'Conv_filter_'+str(filter_window))(embedding)\n",
    "        submodel = GlobalMaxPooling1D(name='MaxPooling_filter_'+str(filter_window))(submodel)\n",
    "        submodels.append(submodel)\n",
    "    \n",
    "    c = Concatenate(axis = -1, name = 'Concatenate')(submodels)\n",
    "    d = Dropout(0.5, name = 'Dropout')(c)\n",
    "    model_output = Dense(1,activation = 'sigmoid',kernel_regularizer = l2(3), name = 'output')(d)\n",
    "    \n",
    "    model = Model(inputs = model_input, outputs = model_output)\n",
    "    adadelta = optimizers.Adadelta()\n",
    "    model.compile(loss='binary_crossentropy',optimizer=adadelta, metrics=['accuracy'])\n",
    "    print(model.summary())\n",
    "    print(\"------------------------------------\\n\")\n",
    "    return model\n",
    "\n",
    "\n",
    "def CNN_static(wordvector_dim,embedding_matrix,sequence_length):\n",
    "    \n",
    "    model_input = Input(shape=(sequence_length,), name = 'Input')\n",
    "    embedding = Embedding(vocabulary_size,wordvector_dim,weights = [embedding_matrix],input_length=sequence_length,trainable = 'False',name = 'Embedding')(model_input)\n",
    "    submodels = []\n",
    "    for filter_window in [3,4,5]:\n",
    "        \n",
    "        submodel = Conv1D(filters = 100,kernel_size = filter_window,padding = 'valid',activation = 'relu', strides = 1,name = 'Conv_filter_'+str(filter_window))(embedding)\n",
    "        submodel = GlobalMaxPooling1D(name='MaxPooling_filter_'+str(filter_window))(submodel)\n",
    "        submodels.append(submodel)\n",
    "    \n",
    "    c = Concatenate(axis = -1, name = 'Concatenate')(submodels)\n",
    "    d = Dropout(0.5, name = 'Dropout')(c)\n",
    "    model_output = Dense(1,activation = 'sigmoid',kernel_regularizer = l2(3),name = 'output')(d)\n",
    "    \n",
    "    model = Model(inputs = model_input, outputs = model_output)\n",
    "    adadelta = optimizers.Adadelta()\n",
    "    model.compile(loss='binary_crossentropy',optimizer=adadelta, metrics=['accuracy'])\n",
    "    print(model.summary())\n",
    "    print(\"------------------------------------\\n\")\n",
    "    return model\n",
    "\n",
    "def CNN_non_static(wordvector_dim,embedding_matrix,sequence_length):\n",
    "    model_input = Input(shape=(sequence_length,), name = 'Input')\n",
    "    embedding = Embedding(vocabulary_size,wordvector_dim,weights = [embedding_matrix],input_length=sequence_length,trainable = 'True',name = 'Embedding')(model_input)\n",
    "    submodels = []\n",
    "    for filter_window in [3,4,5]:\n",
    "        \n",
    "        submodel = Conv1D(filters = 100,kernel_size = filter_window,padding = 'valid',activation = 'relu', strides = 1,name = 'Conv_filter_'+str(filter_window))(embedding)\n",
    "        submodel = GlobalMaxPooling1D(name='MaxPooling_filter_'+str(filter_window))(submodel)\n",
    "        submodels.append(submodel)\n",
    "    \n",
    "    c = Concatenate(axis = -1, name = 'Concatenate')(submodels)\n",
    "    d = Dropout(0.5, name = 'Dropout')(c)\n",
    "    model_output = Dense(1,activation = 'sigmoid',kernel_regularizer = l2(3),name = 'output')(d)\n",
    "    \n",
    "    model = Model(inputs = model_input, outputs = model_output)\n",
    "    adadelta = optimizers.Adadelta()\n",
    "    model.compile(loss='binary_crossentropy',optimizer=adadelta, metrics=['accuracy'])\n",
    "    print(model.summary())\n",
    "    print(\"------------------------------------\\n\")\n",
    "    return model\n",
    "\n"
   ]
  },
  {
   "cell_type": "code",
   "execution_count": 14,
   "metadata": {},
   "outputs": [],
   "source": [
    "import matplotlib.pyplot as plt\n",
    "import math\n",
    "from pylab import MaxNLocator\n",
    "\n",
    "def plot_results(results,batch_size,seq_length):\n",
    "    res = pd.DataFrame(results.history)\n",
    "    res['epoch'] = results.epoch\n",
    "    \n",
    "    plt.figure()\n",
    "    #plot for Accuracy\n",
    "    #a.xaxis.set_major_locator(MaxNLocator(integer=True))\n",
    "    plt.xlabel('Epoch')\n",
    "    plt.ylabel('accuracy')\n",
    "    plt.plot(res['epoch'], res['acc'],label='Train accuracy')\n",
    "    plt.plot(res['epoch'], res['val_acc'],label = 'Val accuracy')\n",
    "    plt.ylim([0,math.ceil(max(res['acc']))])\n",
    "    plt.title(\"Batch_Size={},Sequence_Length = {}\".format(batch_size,seq_length))\n",
    "    plt.legend()\n",
    "    \n",
    "    \n",
    "    plt.figure()\n",
    "    #b.xaxis.set_major_locator(MaxNLocator(integer=True))\n",
    "    #plot for Loss\n",
    "    plt.xlabel('Epoch')\n",
    "    plt.ylabel('loss')\n",
    "    plt.plot(res['epoch'], res['loss'],label='Train loss')\n",
    "    plt.plot(res['epoch'], res['val_loss'],label = 'Val loss')\n",
    "    plt.ylim([0,math.ceil(max(res['val_loss']))])\n",
    "    plt.title(\"Batch_Size={},Sequence_Length = {}\".format(batch_size,seq_length))\n",
    "    plt.legend()\n",
    "    plt.show()\n",
    "    print(\"Validation Accuracy : {}\".format(res['val_acc'].iloc[-1]))\n",
    "    print(\"Training Accuracy   : {}\". format(res['acc'].iloc[-1]))\n",
    "    print(\"---------------------------------------------\")"
   ]
  },
  {
   "cell_type": "markdown",
   "metadata": {},
   "source": [
    "## Implementing the models"
   ]
  },
  {
   "cell_type": "code",
   "execution_count": 28,
   "metadata": {},
   "outputs": [
    {
     "name": "stdout",
     "output_type": "stream",
     "text": [
      "__________________________________________________________________________________________________\n",
      "Layer (type)                    Output Shape         Param #     Connected to                     \n",
      "==================================================================================================\n",
      "Input (InputLayer)              (None, 39)           0                                            \n",
      "__________________________________________________________________________________________________\n",
      "Embedding (Embedding)           (None, 39, 300)      5243700     Input[0][0]                      \n",
      "__________________________________________________________________________________________________\n",
      "Conv_filter_3 (Conv1D)          (None, 37, 100)      90100       Embedding[0][0]                  \n",
      "__________________________________________________________________________________________________\n",
      "Conv_filter_4 (Conv1D)          (None, 36, 100)      120100      Embedding[0][0]                  \n",
      "__________________________________________________________________________________________________\n",
      "Conv_filter_5 (Conv1D)          (None, 35, 100)      150100      Embedding[0][0]                  \n",
      "__________________________________________________________________________________________________\n",
      "MaxPooling_filter_3 (GlobalMaxP (None, 100)          0           Conv_filter_3[0][0]              \n",
      "__________________________________________________________________________________________________\n",
      "MaxPooling_filter_4 (GlobalMaxP (None, 100)          0           Conv_filter_4[0][0]              \n",
      "__________________________________________________________________________________________________\n",
      "MaxPooling_filter_5 (GlobalMaxP (None, 100)          0           Conv_filter_5[0][0]              \n",
      "__________________________________________________________________________________________________\n",
      "Concatenate (Concatenate)       (None, 300)          0           MaxPooling_filter_3[0][0]        \n",
      "                                                                 MaxPooling_filter_4[0][0]        \n",
      "                                                                 MaxPooling_filter_5[0][0]        \n",
      "__________________________________________________________________________________________________\n",
      "Dropout (Dropout)               (None, 300)          0           Concatenate[0][0]                \n",
      "__________________________________________________________________________________________________\n",
      "output (Dense)                  (None, 1)            301         Dropout[0][0]                    \n",
      "==================================================================================================\n",
      "Total params: 5,604,301\n",
      "Trainable params: 5,604,301\n",
      "Non-trainable params: 0\n",
      "__________________________________________________________________________________________________\n",
      "None\n",
      "------------------------------------\n",
      "\n"
     ]
    },
    {
     "data": {
      "image/png": "[encoded data removed]",
      "text/plain": [
       "<Figure size 432x288 with 1 Axes>"
      ]
     },
     "metadata": {
      "needs_background": "light"
     },
     "output_type": "display_data"
    },
    {
     "data": {
      "image/png": "[encoded data removed]",
      "text/plain": [
       "<Figure size 432x288 with 1 Axes>"
      ]
     },
     "metadata": {
      "needs_background": "light"
     },
     "output_type": "display_data"
    },
    {
     "name": "stdout",
     "output_type": "stream",
     "text": [
      "Validation Accuracy : 0.7275204386741437\n",
      "Training Accuracy   : 0.8659878216181578\n",
      "---------------------------------------------\n"
     ]
    }
   ],
   "source": [
    "## Building CNN Models\n",
    "from keras.callbacks import EarlyStopping\n",
    "batchSize = 50\n",
    "Dimension = 300\n",
    "Seq_Length = max_length\n",
    "\n",
    "#CNN - random embedding initializations\n",
    "CNN_rand_best = CNN_rand(Dimension,Seq_Length)\n",
    "early_stop = EarlyStopping(monitor='val_loss', patience=3)\n",
    "X_train_pad = Padded_sequences(Seq_Length)[0]\n",
    "X_validate_pad = Padded_sequences(Seq_Length)[1]\n",
    "CNN_rand_results = CNN_rand_best.fit(X_train_pad, Y_train, batch_size = batchSize, epochs = 4, validation_data=(X_validate_pad, Y_validate), verbose =0,callbacks=[early_stop])\n",
    "plot_results(CNN_rand_results,batchSize,Seq_Length)"
   ]
  },
  {
   "cell_type": "code",
   "execution_count": 29,
   "metadata": {},
   "outputs": [],
   "source": [
    "# Function that evaluates metric scores\n",
    "def scores(Y_true, Y_predict):\n",
    "    a=precision_recall_fscore_support(Y_true, Y_predict, pos_label =1, average = 'binary')\n",
    "    print(\"Accuracy:{}%\\nPrecision:{}%\\nRecall:{}%\\nFscore:{}%\\n\".format(100*accuracy_score(Y_true, Y_predict),100*a[0],100*a[1],100*a[2]))\n",
    "    "
   ]
  },
  {
   "cell_type": "code",
   "execution_count": 30,
   "metadata": {},
   "outputs": [
    {
     "name": "stdout",
     "output_type": "stream",
     "text": [
      "Accuracy:74.93212669683258%\n",
      "Precision:75.79681274900398%\n",
      "Recall:70.98880597014924%\n",
      "Fscore:73.3140655105973%\n",
      "\n"
     ]
    }
   ],
   "source": [
    "from sklearn.metrics import precision_recall_fscore_support\n",
    "from sklearn.metrics import accuracy_score\n",
    "X_test_pad = Padded_sequences(Seq_Length)[2]\n",
    "Y_test_predict_CNN_rand = CNN_rand_best.predict(X_test_pad)\n",
    "Y_test_predict_CNN_rand = [1 if x >0.5 else 0 for x in Y_test_predict_CNN_rand]\n",
    "\n",
    "scores(Y_test,Y_test_predict_CNN_rand)"
   ]
  },
  {
   "cell_type": "code",
   "execution_count": 48,
   "metadata": {
    "scrolled": true
   },
   "outputs": [
    {
     "name": "stdout",
     "output_type": "stream",
     "text": [
      "__________________________________________________________________________________________________\n",
      "Layer (type)                    Output Shape         Param #     Connected to                     \n",
      "==================================================================================================\n",
      "Input (InputLayer)              (None, 39)           0                                            \n",
      "__________________________________________________________________________________________________\n",
      "Embedding (Embedding)           (None, 39, 300)      5243700     Input[0][0]                      \n",
      "__________________________________________________________________________________________________\n",
      "Conv_filter_3 (Conv1D)          (None, 37, 100)      90100       Embedding[0][0]                  \n",
      "__________________________________________________________________________________________________\n",
      "Conv_filter_4 (Conv1D)          (None, 36, 100)      120100      Embedding[0][0]                  \n",
      "__________________________________________________________________________________________________\n",
      "Conv_filter_5 (Conv1D)          (None, 35, 100)      150100      Embedding[0][0]                  \n",
      "__________________________________________________________________________________________________\n",
      "MaxPooling_filter_3 (GlobalMaxP (None, 100)          0           Conv_filter_3[0][0]              \n",
      "__________________________________________________________________________________________________\n",
      "MaxPooling_filter_4 (GlobalMaxP (None, 100)          0           Conv_filter_4[0][0]              \n",
      "__________________________________________________________________________________________________\n",
      "MaxPooling_filter_5 (GlobalMaxP (None, 100)          0           Conv_filter_5[0][0]              \n",
      "__________________________________________________________________________________________________\n",
      "Concatenate (Concatenate)       (None, 300)          0           MaxPooling_filter_3[0][0]        \n",
      "                                                                 MaxPooling_filter_4[0][0]        \n",
      "                                                                 MaxPooling_filter_5[0][0]        \n",
      "__________________________________________________________________________________________________\n",
      "Dropout (Dropout)               (None, 300)          0           Concatenate[0][0]                \n",
      "__________________________________________________________________________________________________\n",
      "output (Dense)                  (None, 1)            301         Dropout[0][0]                    \n",
      "==================================================================================================\n",
      "Total params: 5,604,301\n",
      "Trainable params: 5,604,301\n",
      "Non-trainable params: 0\n",
      "__________________________________________________________________________________________________\n",
      "None\n",
      "------------------------------------\n",
      "\n"
     ]
    },
    {
     "data": {
      "image/png": "[encoded data removed]",
      "text/plain": [
       "<Figure size 432x288 with 1 Axes>"
      ]
     },
     "metadata": {
      "needs_background": "light"
     },
     "output_type": "display_data"
    },
    {
     "data": {
      "image/png": "[encoded data removed]",
      "text/plain": [
       "<Figure size 432x288 with 1 Axes>"
      ]
     },
     "metadata": {
      "needs_background": "light"
     },
     "output_type": "display_data"
    },
    {
     "name": "stdout",
     "output_type": "stream",
     "text": [
      "Validation Accuracy : 0.7593097151895744\n",
      "Training Accuracy   : 0.8919709708109107\n",
      "---------------------------------------------\n"
     ]
    }
   ],
   "source": [
    "#CNN-static\n",
    "CNN_static_best = CNN_static(Dimension,embedding_matrix(Dimension),Seq_Length)\n",
    "early_stop = EarlyStopping(monitor='val_loss', patience=3)\n",
    "X_train_pad = Padded_sequences(Seq_Length)[0]\n",
    "X_validate_pad = Padded_sequences(Seq_Length)[1]\n",
    "CNN_static_results = CNN_static_best.fit(X_train_pad, Y_train, batch_size = batchSize, epochs = 4, validation_data=(X_validate_pad, Y_validate), verbose =0,callbacks=[early_stop])\n",
    "plot_results(CNN_static_results,batchSize,Seq_Length)"
   ]
  },
  {
   "cell_type": "code",
   "execution_count": 49,
   "metadata": {
    "scrolled": true
   },
   "outputs": [
    {
     "name": "stdout",
     "output_type": "stream",
     "text": [
      "Accuracy:76.38009049773756%\n",
      "Precision:75.13711151736746%\n",
      "Recall:76.67910447761194%\n",
      "Fscore:75.90027700831024%\n",
      "\n"
     ]
    }
   ],
   "source": [
    "Y_test_predict_CNN_static = CNN_static_best.predict(X_test_pad)\n",
    "Y_test_predict_CNN_static = [1 if x >0.5 else 0 for x in Y_test_predict_CNN_static]\n",
    "\n",
    "scores(Y_test,Y_test_predict_CNN_static)\n"
   ]
  },
  {
   "cell_type": "code",
   "execution_count": 51,
   "metadata": {},
   "outputs": [
    {
     "name": "stdout",
     "output_type": "stream",
     "text": [
      "__________________________________________________________________________________________________\n",
      "Layer (type)                    Output Shape         Param #     Connected to                     \n",
      "==================================================================================================\n",
      "Input (InputLayer)              (None, 39)           0                                            \n",
      "__________________________________________________________________________________________________\n",
      "Embedding (Embedding)           (None, 39, 300)      5243700     Input[0][0]                      \n",
      "__________________________________________________________________________________________________\n",
      "Conv_filter_3 (Conv1D)          (None, 37, 100)      90100       Embedding[0][0]                  \n",
      "__________________________________________________________________________________________________\n",
      "Conv_filter_4 (Conv1D)          (None, 36, 100)      120100      Embedding[0][0]                  \n",
      "__________________________________________________________________________________________________\n",
      "Conv_filter_5 (Conv1D)          (None, 35, 100)      150100      Embedding[0][0]                  \n",
      "__________________________________________________________________________________________________\n",
      "MaxPooling_filter_3 (GlobalMaxP (None, 100)          0           Conv_filter_3[0][0]              \n",
      "__________________________________________________________________________________________________\n",
      "MaxPooling_filter_4 (GlobalMaxP (None, 100)          0           Conv_filter_4[0][0]              \n",
      "__________________________________________________________________________________________________\n",
      "MaxPooling_filter_5 (GlobalMaxP (None, 100)          0           Conv_filter_5[0][0]              \n",
      "__________________________________________________________________________________________________\n",
      "Concatenate (Concatenate)       (None, 300)          0           MaxPooling_filter_3[0][0]        \n",
      "                                                                 MaxPooling_filter_4[0][0]        \n",
      "                                                                 MaxPooling_filter_5[0][0]        \n",
      "__________________________________________________________________________________________________\n",
      "Dropout (Dropout)               (None, 300)          0           Concatenate[0][0]                \n",
      "__________________________________________________________________________________________________\n",
      "output (Dense)                  (None, 1)            301         Dropout[0][0]                    \n",
      "==================================================================================================\n",
      "Total params: 5,604,301\n",
      "Trainable params: 5,604,301\n",
      "Non-trainable params: 0\n",
      "__________________________________________________________________________________________________\n",
      "None\n",
      "------------------------------------\n",
      "\n"
     ]
    },
    {
     "data": {
      "image/png": "[encoded data removed]",
      "text/plain": [
       "<Figure size 432x288 with 1 Axes>"
      ]
     },
     "metadata": {
      "needs_background": "light"
     },
     "output_type": "display_data"
    },
    {
     "data": {
      "image/png": "[encoded data removed]",
      "text/plain": [
       "<Figure size 432x288 with 1 Axes>"
      ]
     },
     "metadata": {
      "needs_background": "light"
     },
     "output_type": "display_data"
    },
    {
     "name": "stdout",
     "output_type": "stream",
     "text": [
      "Validation Accuracy : 0.7593097178964155\n",
      "Training Accuracy   : 0.8931413831168347\n",
      "---------------------------------------------\n"
     ]
    }
   ],
   "source": [
    "# CNN-non static \n",
    "from keras.callbacks import EarlyStopping\n",
    "batchSize = 50\n",
    "Dimension = 300\n",
    "Seq_Length = max_length\n",
    "early_stop = EarlyStopping(monitor='val_loss', patience=3)\n",
    "CNN_nonstatic_best = CNN_non_static(Dimension,embedding_matrix(Dimension),Seq_Length)\n",
    "X_train_pad = Padded_sequences(Seq_Length)[0]\n",
    "X_validate_pad = Padded_sequences(Seq_Length)[1]\n",
    "CNN_nonstatic_results = CNN_nonstatic_best.fit(X_train_pad, Y_train, batch_size = batchSize, epochs = 4, validation_data=(X_validate_pad, Y_validate), verbose =0,callbacks=[early_stop])\n",
    "plot_results(CNN_nonstatic_results,batchSize,Seq_Length)"
   ]
  },
  {
   "cell_type": "code",
   "execution_count": 52,
   "metadata": {},
   "outputs": [
    {
     "name": "stdout",
     "output_type": "stream",
     "text": [
      "Accuracy:77.19457013574662%\n",
      "Precision:75.77132486388385%\n",
      "Recall:77.89179104477611%\n",
      "Fscore:76.81692732290706%\n",
      "\n"
     ]
    }
   ],
   "source": [
    "Y_test_predict_CNN_nonstatic = CNN_nonstatic_best.predict(X_test_pad)\n",
    "Y_test_predict_CNN_nonstatic = [1 if x >0.5 else 0 for x in Y_test_predict_CNN_nonstatic]\n",
    "\n",
    "\n",
    "scores(Y_test,Y_test_predict_CNN_nonstatic)"
   ]
  },
  {
   "cell_type": "markdown",
   "metadata": {},
   "source": [
    "From the above results, Even though validation accuracy turned out same for both static and non static,we see that non static CNN has all of the metrics higher than others and with test accuracy of 77.19% where as static CNN  has 76.38% and random CNN has 74.93%. This could be because in non static CNN, its learning the pre trained embeddings which is eventually a better representation of the vocabulary and the model that starts randomly and learns the embeddings won't be able to represent the words as much as the other models do."
   ]
  }
 ],
 "metadata": {
  "kernelspec": {
   "display_name": "Python 3",
   "language": "python",
   "name": "python3"
  },
  "language_info": {
   "codemirror_mode": {
    "name": "ipython",
    "version": 3
   },
   "file_extension": ".py",
   "mimetype": "text/x-python",
   "name": "python",
   "nbconvert_exporter": "python",
   "pygments_lexer": "ipython3",
   "version": "3.6.8"
  }
 },
 "nbformat": 4,
 "nbformat_minor": 2
}
